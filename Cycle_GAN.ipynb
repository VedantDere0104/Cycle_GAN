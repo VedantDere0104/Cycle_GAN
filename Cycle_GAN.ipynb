{
  "nbformat": 4,
  "nbformat_minor": 0,
  "metadata": {
    "colab": {
      "name": "Cycle_GAN.ipynb",
      "provenance": [],
      "collapsed_sections": [],
      "mount_file_id": "1EDqJ7TW7detTbtoSaWmY9K6z_xklF3nk",
      "authorship_tag": "ABX9TyO3IGz/5ZuhMLjfPEMwRQo4",
      "include_colab_link": true
    },
    "kernelspec": {
      "name": "python3",
      "display_name": "Python 3"
    },
    "language_info": {
      "name": "python"
    },
    "accelerator": "GPU"
  },
  "cells": [
    {
      "cell_type": "markdown",
      "metadata": {
        "id": "view-in-github",
        "colab_type": "text"
      },
      "source": [
        "<a href=\"https://colab.research.google.com/github/VedantDere0104/Cycle_GAN/blob/main/Cycle_GAN.ipynb\" target=\"_parent\"><img src=\"https://colab.research.google.com/assets/colab-badge.svg\" alt=\"Open In Colab\"/></a>"
      ]
    },
    {
      "cell_type": "code",
      "metadata": {
        "id": "n9oqOYgY5HSt"
      },
      "source": [
        "####"
      ],
      "execution_count": null,
      "outputs": []
    },
    {
      "cell_type": "code",
      "metadata": {
        "id": "HAkFUrHs5M30"
      },
      "source": [
        "import torch\n",
        "from torch import nn\n",
        "\n",
        "from tqdm.auto import tqdm\n",
        "from torchvision import transforms\n",
        "from torchvision.datasets import VOCSegmentation\n",
        "from torchvision.utils import make_grid\n",
        "from torch.utils.data import DataLoader\n",
        "import matplotlib.pyplot as plt\n",
        "import numpy as np\n",
        "from torchsummary import summary"
      ],
      "execution_count": null,
      "outputs": []
    },
    {
      "cell_type": "code",
      "metadata": {
        "id": "Btd04-4Z7-Qr"
      },
      "source": [
        "in_channels = 3\n",
        "out_channels = 3\n",
        "z_dim = 512\n",
        "hidden_dim = 32\n",
        "device = torch.device('cuda' if torch.cuda.is_available() else 'cpu')"
      ],
      "execution_count": null,
      "outputs": []
    },
    {
      "cell_type": "code",
      "metadata": {
        "id": "11UKTuOb-j-v"
      },
      "source": [
        "def show_tensor_images(image_tensor, num_images=2, size=(3 , 512 , 512) ):\n",
        "  image_shifted = image_tensor\n",
        "  #print(image_shifted)\n",
        "  image_unflat = image_shifted.detach().cpu().view(-1, *size)\n",
        "  #print(image_unflat)\n",
        "  image_grid = make_grid(image_unflat[:num_images], nrow=2 , normalize=False)\n",
        "  #print(image_grid)\n",
        "  plt.imshow(image_grid.permute(1 , 2, 0).squeeze())\n",
        "  plt.show()"
      ],
      "execution_count": null,
      "outputs": []
    },
    {
      "cell_type": "code",
      "metadata": {
        "id": "7HiJhDH5-t5X"
      },
      "source": [
        "def crop(image, new_shape):\n",
        "  middle_height = image.shape[2] // 2\n",
        "  middle_width = image.shape[3] // 2\n",
        "  starting_height = middle_height - new_shape[2] // 2\n",
        "  final_height = starting_height + new_shape[2]\n",
        "  starting_width = middle_width - new_shape[3] // 2\n",
        "  final_width = starting_width + new_shape[3]\n",
        "  cropped_image = image[:, :, starting_height:final_height, starting_width:final_width]\n",
        "  return cropped_image"
      ],
      "execution_count": null,
      "outputs": []
    },
    {
      "cell_type": "code",
      "metadata": {
        "id": "9xPsOQMl5Rf_"
      },
      "source": [
        "class Conv(nn.Module):\n",
        "  def __init__(self , \n",
        "               in_channels , \n",
        "               out_channels , \n",
        "               kernel_size = 3 , \n",
        "               stride = 1 , \n",
        "               padding = 1 , \n",
        "               use_norm = True , \n",
        "               use_activation = True , \n",
        "               use_dropout = False , \n",
        "               use_pool = True):\n",
        "    super(Conv , self).__init__()\n",
        "\n",
        "    self.use_norm = use_norm\n",
        "    self.use_activation = use_activation\n",
        "    self.use_dropout = use_dropout\n",
        "    self.use_pool = use_pool\n",
        "    \n",
        "    self.conv1 = nn.Conv2d(in_channels , out_channels , kernel_size , stride , padding)\n",
        "\n",
        "    if self.use_norm:\n",
        "      self.norm = nn.InstanceNorm2d(out_channels)\n",
        "    if self.use_activation:\n",
        "      self.activation = nn.LeakyReLU(0.2)\n",
        "    if self.use_dropout:\n",
        "      self.dropout = nn.Dropout()\n",
        "    if self.use_pool:\n",
        "      self.maxpool = nn.MaxPool2d(kernel_size=2, stride=2)\n",
        "\n",
        "  def forward(self , x):\n",
        "    x = self.conv1(x)\n",
        "    if self.use_norm:\n",
        "      x = self.norm(x)\n",
        "    if self.use_activation:\n",
        "      x = self.activation(x)\n",
        "    if self.use_dropout:\n",
        "      x = self.dropout(x)\n",
        "    if self.use_pool:\n",
        "      x = self.maxpool(x)\n",
        "    return x"
      ],
      "execution_count": null,
      "outputs": []
    },
    {
      "cell_type": "code",
      "metadata": {
        "id": "EL9qjk125Xm3"
      },
      "source": [
        "conv = Conv(in_channels , out_channels ).to(device)\n",
        "summary(conv , (3 , 512 , 512))"
      ],
      "execution_count": null,
      "outputs": []
    },
    {
      "cell_type": "code",
      "metadata": {
        "id": "RTLSgSuR8O3z"
      },
      "source": [
        "class ConvT(nn.Module):\n",
        "  def __init__(self , \n",
        "               in_channels , \n",
        "               out_channels , \n",
        "               kernel_size = (2 , 2) , \n",
        "               stride = (2 , 2) ,\n",
        "               padding = 0 , \n",
        "               use_norm = True , \n",
        "               use_activation = True , \n",
        "               use_dropout = False):\n",
        "    super(ConvT , self).__init__()\n",
        "\n",
        "    self.use_norm = use_norm\n",
        "    self.use_activation = use_activation\n",
        "    self.use_dropout = use_dropout\n",
        "\n",
        "    self.convT1 = nn.ConvTranspose2d(in_channels , out_channels , kernel_size , stride , padding)\n",
        "\n",
        "    if self.use_norm:\n",
        "      self.norm = nn.InstanceNorm2d(out_channels)\n",
        "    if self.use_activation:\n",
        "      self.activation = nn.ReLU(inplace=True)\n",
        "    if self.use_dropout:\n",
        "      self.dropout = nn.Dropout()\n",
        "\n",
        "  def forward(self , x):\n",
        "    x = self.convT1(x)\n",
        "    if self.use_norm:\n",
        "      x = self.norm(x)\n",
        "    if self.use_activation:\n",
        "      x = self.activation(x)\n",
        "    if self.use_dropout:\n",
        "      x = self.dropout(x)\n",
        "    return x"
      ],
      "execution_count": null,
      "outputs": []
    },
    {
      "cell_type": "code",
      "metadata": {
        "id": "4F6PUyS89UbS"
      },
      "source": [
        "convT = ConvT(in_channels , 32).to(device)\n",
        "summary(convT , (3 , 256, 256))"
      ],
      "execution_count": null,
      "outputs": []
    },
    {
      "cell_type": "code",
      "metadata": {
        "id": "wqgqTpx0-L3X"
      },
      "source": [
        "class Decoder_block(nn.Module):\n",
        "  def __init__(self , \n",
        "               in_channels , \n",
        "               out_channels ,\n",
        "               use_norm = True , \n",
        "               use_activation = True , \n",
        "               use_dropout = False):\n",
        "    super(Decoder_block , self).__init__()\n",
        "\n",
        "    self.convT1 = ConvT(in_channels * 2 , in_channels , use_norm = use_norm , use_activation=use_activation , use_dropout=use_dropout)\n",
        "    self.conv1 = Conv(in_channels , in_channels , use_pool=False , use_norm = use_norm , use_dropout=use_dropout , use_activation= use_activation)\n",
        "    self.conv2 = Conv(in_channels , out_channels , use_pool=False , use_norm = use_norm , use_dropout=use_dropout , use_activation= use_activation)\n",
        "  \n",
        "  def forward(self , x , y):\n",
        "    y = crop(y , x.shape)\n",
        "    x = torch.cat([x , y] , dim=1)\n",
        "    x = self.convT1(x)\n",
        "    x = self.conv1(x)\n",
        "    x = self.conv2(x)\n",
        "    return x\n",
        "\n"
      ],
      "execution_count": null,
      "outputs": []
    },
    {
      "cell_type": "code",
      "metadata": {
        "id": "8TTxvtyR_QBb"
      },
      "source": [
        "x = torch.randn(2 , 3 , 64 , 64).to(device)\n",
        "y = torch.randn(2 , 3 , 512 ,512).to(device)\n",
        "decoder_block = Decoder_block(3 , 32).to(device)\n",
        "z = decoder_block(x , y)\n",
        "z.shape"
      ],
      "execution_count": null,
      "outputs": []
    },
    {
      "cell_type": "code",
      "metadata": {
        "id": "PpY4o8KP9ZS_"
      },
      "source": [
        "class Generator(nn.Module):\n",
        "  def __init__(self , \n",
        "               in_channels , \n",
        "               out_channels , \n",
        "               hidden_dim = 32):\n",
        "    super(Generator , self).__init__()\n",
        "\n",
        "    self.conv1 = Conv(in_channels , hidden_dim , use_norm=False)\n",
        "    self.conv2 = Conv(hidden_dim , hidden_dim * 2)\n",
        "    self.conv3 = Conv(hidden_dim * 2 , hidden_dim * 4)\n",
        "    self.conv4 = Conv(hidden_dim * 4 , hidden_dim * 8)\n",
        "    self.conv5 = Conv(hidden_dim * 8 , hidden_dim * 16)\n",
        "    self.conv6 = Conv(hidden_dim * 16 , hidden_dim * 32 , use_norm=False)\n",
        "    self.conv7 = Conv(hidden_dim * 32 , hidden_dim * 64 , use_norm=False) \n",
        "    \n",
        "    self.middle = Conv(hidden_dim * 64 , hidden_dim * 64 , use_pool=False)\n",
        "\n",
        "    self.decoder1 = Decoder_block(hidden_dim * 64 , hidden_dim * 32 , use_norm=False)\n",
        "    self.decoder2 = Decoder_block(hidden_dim * 32 , hidden_dim * 16)\n",
        "    self.decoder3 = Decoder_block(hidden_dim * 16 , hidden_dim * 8)\n",
        "    self.decoder4 = Decoder_block(hidden_dim * 8 , hidden_dim * 4)\n",
        "    self.decoder5 = Decoder_block(hidden_dim * 4 , hidden_dim * 2)\n",
        "    self.decoder6 = Decoder_block(hidden_dim * 2 , hidden_dim , use_norm=False)\n",
        "    self.decoder7 = Decoder_block(hidden_dim , out_channels , use_norm=False)\n",
        "\n",
        "    self.last = Conv(out_channels , out_channels , use_norm=False , use_pool=False , use_activation=False)\n",
        "    self.sigmoid = nn.Sigmoid()\n",
        "\n",
        "  def forward(self , x):\n",
        "    x1 = self.conv1(x)\n",
        "    x2 = self.conv2(x1)\n",
        "    x3 = self.conv3(x2)\n",
        "    x4 = self.conv4(x3)\n",
        "    x5 = self.conv5(x4)\n",
        "    x6 = self.conv6(x5)\n",
        "    x7 = self.conv7(x6)\n",
        "\n",
        "    middle = self.middle(x7)\n",
        "\n",
        "    x8 = self.decoder1(middle , x7)\n",
        "    x9 = self.decoder2(x8 , x6)\n",
        "    x10 = self.decoder3(x9 , x5)\n",
        "    x11 = self.decoder4(x10 , x4)\n",
        "    x12 = self.decoder5(x11 , x3)\n",
        "    x13 = self.decoder6(x12 , x2)\n",
        "    x14 = self.decoder7(x13 , x1)\n",
        "\n",
        "    x = self.sigmoid(self.last(x14))\n",
        "\n",
        "    return x"
      ],
      "execution_count": null,
      "outputs": []
    },
    {
      "cell_type": "code",
      "metadata": {
        "id": "MfvmhEKp-K_Z"
      },
      "source": [
        "generator = Generator(in_channels, out_channels).to(device)\n",
        "summary(generator , (3 , 512 , 512))"
      ],
      "execution_count": null,
      "outputs": []
    },
    {
      "cell_type": "code",
      "metadata": {
        "id": "ULHejIaM1IEl"
      },
      "source": [
        "class Encoder(nn.Module):\n",
        "  def __init__(self , \n",
        "               in_channels , \n",
        "               out_channels , \n",
        "               hidden_dim = 32 , \n",
        "               kernel_size = 3 , \n",
        "               stride = 1 , \n",
        "               padding = 1):\n",
        "    super(Encoder , self).__init__()\n",
        "    \n",
        "    self.conv1 = Conv(in_channels , hidden_dim , use_norm=False)\n",
        "    self.conv2 = Conv(hidden_dim , hidden_dim * 2)\n",
        "    self.conv3 = Conv(hidden_dim * 2 , hidden_dim * 4)\n",
        "    self.conv4 = Conv(hidden_dim * 4 , hidden_dim * 8)\n",
        "    self.conv5 = Conv(hidden_dim * 8 , hidden_dim * 16)\n",
        "    self.conv6 = Conv(hidden_dim * 16 , hidden_dim * 32)\n",
        "    self.conv7 = Conv(hidden_dim * 32 , hidden_dim * 32)\n",
        "    self.conv8 = Conv(hidden_dim * 32 , hidden_dim * 16)\n",
        "    self.conv9 = Conv(hidden_dim * 16 , out_channels , use_norm=False)\n",
        "\n",
        "  def forward(self , x):\n",
        "    x = self.conv1(x)\n",
        "    x = self.conv2(x)\n",
        "    x = self.conv3(x)\n",
        "    x = self.conv4(x)\n",
        "    x = self.conv5(x)\n",
        "    x = self.conv6(x)\n",
        "    x = self.conv7(x)\n",
        "    x = self.conv8(x)\n",
        "    x = self.conv9(x)\n",
        "    x = x.view(x.shape[0] , x.shape[1])\n",
        "    return x"
      ],
      "execution_count": null,
      "outputs": []
    },
    {
      "cell_type": "code",
      "metadata": {
        "id": "Oaj6DeY42FKo"
      },
      "source": [
        "encoder = Encoder(in_channels , 1).to(device)\n",
        "summary(encoder , (3, 512 ,512))"
      ],
      "execution_count": null,
      "outputs": []
    },
    {
      "cell_type": "code",
      "metadata": {
        "id": "43PufNUNCIfM"
      },
      "source": [
        "class Discriminator(nn.Module):\n",
        "  def __init__(self , \n",
        "               in_channels , \n",
        "               out_channels , \n",
        "               hidden_dim = 32):\n",
        "    super(Discriminator , self).__init__()\n",
        "    \n",
        "    self.encoder = Encoder(in_channels , out_channels , hidden_dim)\n",
        "\n",
        "  def forward(self , x):\n",
        "    x = self.encoder(x)\n",
        "    return x"
      ],
      "execution_count": null,
      "outputs": []
    },
    {
      "cell_type": "code",
      "metadata": {
        "id": "nVBupQuK4Awz"
      },
      "source": [
        "adv_criterion = nn.BCEWithLogitsLoss()\n",
        "recon_criterion = nn.L1Loss()\n",
        "lambda_recon = 200\n",
        "betas = (0.5 , 0.999)\n",
        "\n",
        "n_epochs = 200\n",
        "in_channels = 3\n",
        "out_channels = 3\n",
        "display_step = 100\n",
        "batch_size = 2\n",
        "lr = 0.0002\n",
        "target_shape = 512"
      ],
      "execution_count": null,
      "outputs": []
    },
    {
      "cell_type": "code",
      "metadata": {
        "id": "xNo_F7c96ISp"
      },
      "source": [
        "transform = transforms.Compose([\n",
        "    transforms.ToTensor()\n",
        "])\n",
        "\n",
        "import torchvision\n",
        "dataset = torchvision.datasets.ImageFolder(\"/content/drive/MyDrive/Maps/maps/\", transform=transform)"
      ],
      "execution_count": null,
      "outputs": []
    },
    {
      "cell_type": "code",
      "metadata": {
        "id": "vPLfPSMv6PH5"
      },
      "source": [
        "generator_x = Generator(in_channels , out_channels).to(device)\n",
        "generator_y = Generator(in_channels , out_channels).to(device)\n",
        "discriminator_x = Discriminator(in_channels , 1).to(device)\n",
        "discriminator_y = Discriminator(in_channels , 1).to(device)"
      ],
      "execution_count": null,
      "outputs": []
    },
    {
      "cell_type": "code",
      "metadata": {
        "id": "TMwMCCP-9M9w"
      },
      "source": [
        "opt_generator_x = torch.optim.Adam(generator_x.parameters() , lr = lr , betas=betas)\n",
        "opt_generator_y = torch.optim.Adam(generator_y.parameters(), lr = lr , betas=betas)\n",
        "opt_discriminator_x = torch.optim.Adam(discriminator_x.parameters(), lr = lr , betas=betas)\n",
        "opt_discriminator_y = torch.optim.Adam(discriminator_y.parameters(), lr = lr , betas=betas)"
      ],
      "execution_count": null,
      "outputs": []
    },
    {
      "cell_type": "code",
      "metadata": {
        "id": "4KEEP_Zz8C5B"
      },
      "source": [
        "def weights_init(m):\n",
        "    if isinstance(m, nn.Conv2d) or isinstance(m, nn.ConvTranspose2d):\n",
        "        torch.nn.init.normal_(m.weight, 0.0, 0.02)\n",
        "    if isinstance(m, nn.BatchNorm2d):\n",
        "        torch.nn.init.normal_(m.weight, 0.0, 0.02)\n",
        "        torch.nn.init.constant_(m.bias, 0)\n"
      ],
      "execution_count": null,
      "outputs": []
    },
    {
      "cell_type": "code",
      "metadata": {
        "id": "S9s9nSiD8wcU"
      },
      "source": [
        "generator_x = generator_x.apply(weights_init)\n",
        "generator_y = generator_y.apply(weights_init)\n",
        "discriminator_x = discriminator_x.apply(weights_init)\n",
        "discriminator_y = discriminator_y.apply(weights_init)"
      ],
      "execution_count": null,
      "outputs": []
    },
    {
      "cell_type": "code",
      "metadata": {
        "id": "OJiC5CEL9ARX"
      },
      "source": [
        "dataloader = DataLoader(dataset , batch_size = batch_size , shuffle=True)\n",
        "input_dim = 3\n",
        "real_dim = 3"
      ],
      "execution_count": null,
      "outputs": []
    },
    {
      "cell_type": "code",
      "metadata": {
        "id": "OuJQWiT29qz6"
      },
      "source": [
        "def get_loss(real , \n",
        "             condition , \n",
        "             gen , \n",
        "             disc , \n",
        "             adv_criterion = adv_criterion , \n",
        "             recon_criterion = recon_criterion , \n",
        "             lambda_recon=lambda_recon):\n",
        "  fake_gen = gen(condition)\n",
        "  disc_fake_pred = disc(fake_gen)\n",
        "  gen_loss_ = adv_criterion(fake_gen , real)\n",
        "  disc_loss = adv_criterion(disc_fake_pred , torch.zeros_like(disc_fake_pred))\n",
        "  gen_loss = recon_criterion(fake_gen , real)\n",
        "  loss = disc_loss + lambda_recon * gen_loss + lambda_recon * gen_loss_ \n",
        "  return loss"
      ],
      "execution_count": null,
      "outputs": []
    },
    {
      "cell_type": "code",
      "metadata": {
        "id": "qBOJC_Ok9CXI"
      },
      "source": [
        "def train():\n",
        "  mean_generator_loss = 0\n",
        "  mean_discriminator_loss = 0\n",
        "  cur_step = 0\n",
        "  for epoch in range(n_epochs):\n",
        "    for img , _ in tqdm(dataloader):\n",
        "      image_width = img.shape[3]\n",
        "      condition = img[: , : , : , :image_width//2]\n",
        "      condition = nn.functional.interpolate(condition , size = target_shape)\n",
        "      real = img[: , : , : , image_width//2:]\n",
        "      real = nn.functional.interpolate(real , size = target_shape)\n",
        "      cur_batch_size = len(condition)\n",
        "      real = real.to(device)\n",
        "      condition = condition.to(device)\n",
        "\n",
        "      opt_generator_x.zero_grad()\n",
        "\n",
        "      gen_loss_condition_real = get_loss(real , condition , generator_x , discriminator_x)\n",
        "\n",
        "      gen_loss_condition_real.backward()\n",
        "      opt_generator_x.step()\n",
        "\n",
        "      opt_generator_y.zero_grad()\n",
        "\n",
        "      gen_loss_real_conditon = get_loss(condition , real , generator_y , discriminator_y)\n",
        "\n",
        "      gen_loss_real_conditon.backward()\n",
        "      opt_generator_y.step()\n",
        "\n",
        "      opt_discriminator_x.zero_grad()\n",
        "      \n",
        "      with torch.no_grad():\n",
        "        fake_condition_real = generator_x(condition)\n",
        "      disc_fake_pred_condition_real = discriminator_x(fake_condition_real)\n",
        "      disc_real_pred = discriminator_x(real)\n",
        "      \n",
        "      disc_fake_loss = adv_criterion(disc_fake_pred_condition_real , torch.zeros_like(disc_fake_pred_condition_real))\n",
        "      disc_real_loss = adv_criterion(disc_real_pred , torch.ones_like(disc_real_pred))\n",
        "\n",
        "      disc_loss = (disc_fake_loss + disc_real_loss)/2\n",
        "\n",
        "      disc_loss.backward()\n",
        "      opt_discriminator_x.step()\n",
        "\n",
        "\n",
        "      opt_discriminator_y.zero_grad()\n",
        "      with torch.no_grad():\n",
        "        fake_real_condition = generator_y(real)\n",
        "      disc_fake_pred_real_condition = discriminator_y(fake_real_condition)\n",
        "      disc_real_pred_ = discriminator_y(condition)\n",
        "\n",
        "      disc_loss_1 = adv_criterion(disc_fake_pred_real_condition , torch.zeros_like(disc_fake_pred_real_condition))\n",
        "      disc_loss_2 = adv_criterion(disc_real_pred_ , torch.ones_like(disc_real_pred_))\n",
        "\n",
        "      disc_loss_ = (disc_loss_1 + disc_loss_2) /2\n",
        "      disc_loss_.backward()\n",
        "      opt_discriminator_y.step()\n",
        "\n",
        "      disc_loss = (disc_loss + disc_loss_)/2\n",
        "      gen_loss = (gen_loss_real_conditon + gen_loss_condition_real)/2\n",
        "\n",
        "      mean_discriminator_loss += disc_loss.item() / display_step\n",
        "      mean_generator_loss += gen_loss.item() / display_step\n",
        "\n",
        "      if cur_step % display_step == 0:\n",
        "        if cur_step > 0:\n",
        "          print(f\"Epoch {epoch}: Step {cur_step}: Generator loss: {mean_generator_loss}, Discriminator loss: {mean_discriminator_loss}\")\n",
        "        else:\n",
        "          print(\"Pretrained initial state\")\n",
        "        print('condition')\n",
        "        show_tensor_images(condition, size=(input_dim, target_shape, target_shape))\n",
        "        print('real')\n",
        "        show_tensor_images(real, size=(real_dim, target_shape, target_shape) )\n",
        "        print('fake_condition_real')\n",
        "        show_tensor_images(fake_condition_real , size=(input_dim , target_shape , target_shape))\n",
        "        print('fake_real_condition')\n",
        "        show_tensor_images(fake_real_condition , size=(input_dim , target_shape , target_shape))\n",
        "        mean_generator_loss = 0\n",
        "        mean_discriminator_loss = 0\n",
        "      cur_step += 1"
      ],
      "execution_count": null,
      "outputs": []
    },
    {
      "cell_type": "code",
      "metadata": {
        "id": "8QOfARefCWbi"
      },
      "source": [
        "train()"
      ],
      "execution_count": null,
      "outputs": []
    },
    {
      "cell_type": "code",
      "metadata": {
        "id": "KFUkf96BCgud"
      },
      "source": [
        "#torch.save(generator_x.state_dict() , '/content/drive/MyDrive/Map_Dataset_Cycle_Gen_x.pth')\n",
        "#torch.save(generator_y.state_dict() , '/content/drive/MyDrive/Map_Dataset_Cycle_Gen_y.pth')\n",
        "#torch.save(discriminator_x.state_dict() , '/content/drive/MyDrive/Map_Dataset_Cycle_Disc_x.pth')\n",
        "#torch.save(discriminator_y.state_dict() , '/content/drive/MyDrive/Map_Dataset_Cycle_Disc_y.pth')"
      ],
      "execution_count": null,
      "outputs": []
    },
    {
      "cell_type": "code",
      "metadata": {
        "id": "rMPTrkzh_fW4"
      },
      "source": [
        ""
      ],
      "execution_count": null,
      "outputs": []
    }
  ]
}